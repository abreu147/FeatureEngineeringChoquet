{
 "cells": [
  {
   "cell_type": "code",
   "execution_count": null,
   "metadata": {},
   "outputs": [],
   "source": [
    "import pandas as pd\n",
    "import numpy as np\n",
    "import matplotlib.pyplot as plt\n",
    "from sklearn.preprocessing import LabelEncoder, StandardScaler\n",
    "from sklearn.feature_selection import VarianceThreshold, SelectKBest, f_classif\n",
    "from sklearn.decomposition import PCA\n",
    "from sklearn.model_selection import train_test_split, GridSearchCV, cross_val_score, StratifiedKFold\n",
    "from sklearn.ensemble import RandomForestClassifier, GradientBoostingClassifier\n",
    "from sklearn.linear_model import LogisticRegression\n",
    "from sklearn.svm import SVC\n",
    "from sklearn.neighbors import KNeighborsClassifier\n",
    "from sklearn.tree import DecisionTreeClassifier\n",
    "from sklearn.naive_bayes import GaussianNB\n",
    "from sklearn.metrics import accuracy_score, classification_report, roc_curve, auc\n",
    "from sklearn.model_selection import train_test_split\n",
    "from sklearn.metrics import accuracy_score, classification_report\n",
    "from sklearn.impute import SimpleImputer\n",
    "from sklearn.dummy import DummyClassifier\n",
    "from sklearn.pipeline import Pipeline\n",
    "from imblearn.under_sampling import RandomUnderSampler\n",
    "from sklearn.feature_selection import SelectKBest, f_classif\n",
    "from sklearn.model_selection import train_test_split\n",
    "import time\n",
    "import xgboost as xgb\n",
    "from sklearn.metrics import accuracy_score, classification_report\n",
    "from sklearn.model_selection import train_test_split\n",
    "\n"
   ]
  },
  {
   "cell_type": "code",
   "execution_count": null,
   "metadata": {},
   "outputs": [],
   "source": [
    "# Função para treinar e avaliar o modelo com Random Forest\n",
    "def train_and_evaluate(X, y, description):\n",
    "    \"\"\"Treina o Random Forest e exibe os resultados\"\"\"\n",
    "    X_train, X_test, y_train, y_test = train_test_split(\n",
    "        X, y, test_size=0.3, random_state=42, stratify=y\n",
    "    )\n",
    "\n",
    "    model = RandomForestClassifier(random_state=42, n_estimators=100, max_depth=10)\n",
    "    model.fit(X_train, y_train)\n",
    "\n",
    "    y_pred = model.predict(X_test)\n",
    "    accuracy = accuracy_score(y_test, y_pred)\n",
    "    report = classification_report(y_test, y_pred)\n",
    "\n",
    "    print(f\"\\n=== Resultados {description} ===\")\n",
    "    print(f\"Acurácia: {accuracy:.4f}\")\n",
    "    print(\"Relatório de Classificação:\")\n",
    "    print(report)"
   ]
  },
  {
   "cell_type": "code",
   "execution_count": null,
   "metadata": {},
   "outputs": [],
   "source": [
    "# Função para treinar e avaliar o modelo com XGBoost\n",
    "def train_and_evaluate_xgboost(X, y, description):\n",
    "    \"\"\"Treina o modelo XGBoost e exibe os resultados\"\"\"\n",
    "\n",
    "    # Divisão dos dados em treino e teste\n",
    "    X_train, X_test, y_train, y_test = train_test_split(\n",
    "        X, y, test_size=0.3, random_state=42, stratify=y\n",
    "    )\n",
    "\n",
    "    # Criar e treinar o modelo XGBoost\n",
    "    xgb_model = xgb.XGBClassifier(\n",
    "        n_estimators=100,    # Número de árvores (boosting rounds)\n",
    "        max_depth=6,         # Profundidade máxima das árvores\n",
    "        learning_rate=0.1,   # Taxa de aprendizado\n",
    "        subsample=0.8,       # Amostragem de dados para evitar overfitting\n",
    "        colsample_bytree=0.8,# Amostragem de features para cada árvore\n",
    "        random_state=42,\n",
    "        use_label_encoder=False,  # Evita warning de codificação\n",
    "        eval_metric=\"logloss\"     # Evita warning de avaliação desatualizada\n",
    "    )\n",
    "\n",
    "    xgb_model.fit(X_train, y_train)\n",
    "\n",
    "    # Fazer previsões\n",
    "    y_pred = xgb_model.predict(X_test)\n",
    "\n",
    "    # Avaliar o modelo\n",
    "    accuracy = accuracy_score(y_test, y_pred)\n",
    "    report = classification_report(y_test, y_pred)\n",
    "\n",
    "    # Exibir os resultados\n",
    "    print(f\"\\n=== Resultados {description} (XGBoost) ===\")\n",
    "    print(f\"Acurácia: {accuracy:.4f}\")\n",
    "    print(\"Relatório de Classificação:\")\n",
    "    print(report)"
   ]
  },
  {
   "cell_type": "code",
   "execution_count": null,
   "metadata": {},
   "outputs": [],
   "source": [
    "# Load the data\n",
    "#Carregar a nova feature\n",
    "\n",
    "file_path = 'C:/Users/abreu/Desktop/Mestrado/Wednesday-workingHours.pcap_ISCX.csv'  # replace with the actual file path\n",
    "\n",
    "df_new_feature = pd.read_csv(\"C:/Users/abreu/Desktop/Mestrado/nova_feature.csv\")  # Atualize com o caminho correto\n",
    "\n",
    "df=pd.read_csv(file_path)"
   ]
  },
  {
   "cell_type": "code",
   "execution_count": null,
   "metadata": {},
   "outputs": [],
   "source": [
    "# 2. Pré-processar os dados\n",
    "# Remover colunas irrelevantes ou com valores constantes\n",
    "irrelevant_columns = [col for col in df.columns if df[col].nunique() <= 1]\n",
    "df_reduced = df.drop(columns=irrelevant_columns)\n",
    "\n",
    "\n",
    "df_reduced.replace([np.inf, -np.inf], np.nan, inplace=True)\n",
    "\n",
    "\n",
    "# Converter colunas categóricas para numéricas antes de preencher valores ausentes\n",
    "for col in df_reduced.select_dtypes(include=['object']).columns:\n",
    "    df_reduced[col] = df_reduced[col].astype('category').cat.codes\n",
    "\n",
    "# Substituir valores NaN por mediana de cada coluna\n",
    "df_reduced = df_reduced.fillna(df_reduced.median())\n",
    "\n",
    "\n",
    "# Preencher valores ausentes com a mediana\n",
    "df_reduced = df_reduced.fillna(df_reduced.median())\n",
    "\n",
    "\n",
    "# Separar features e rótulos\n",
    "X = df_reduced.drop(columns=[' Label'])  # Substitua ' Label' pelo nome correto da coluna de rótulos\n",
    "y = df_reduced[' Label']\n",
    "\n",
    "\n",
    "# Converter rótulos para numéricos\n",
    "y = y.astype('category').cat.codes\n",
    "\n",
    "# Selecionar apenas colunas numéricas\n",
    "X = X.select_dtypes(include=[float, int])\n"
   ]
  },
  {
   "cell_type": "code",
   "execution_count": null,
   "metadata": {},
   "outputs": [
    {
     "name": "stdout",
     "output_type": "stream",
     "text": [
      "As 4 melhores features selecionadas são: ['Bwd Packet Length Max', ' Bwd Packet Length Mean', ' Bwd Packet Length Std', ' Avg Bwd Segment Size']\n"
     ]
    }
   ],
   "source": [
    "# Aplicar SelectKBest para escolher as 4 melhores features\n",
    "selector = SelectKBest(score_func=f_classif, k=4)\n",
    "X_selected = selector.fit_transform(X, y)\n",
    "\n",
    "# Obter os nomes das features selecionadas (opcional)\n",
    "selected_features = X.columns[selector.get_support()]\n",
    "print(\"As 4 melhores features selecionadas são:\", selected_features.tolist())"
   ]
  },
  {
   "cell_type": "code",
   "execution_count": null,
   "metadata": {},
   "outputs": [
    {
     "name": "stdout",
     "output_type": "stream",
     "text": [
      "Scores das 4 features selecionadas:\n",
      "                   Feature          Score\n",
      "0   Bwd Packet Length Mean  112023.055569\n",
      "1     Avg Bwd Segment Size  112023.055569\n",
      "2    Bwd Packet Length Std  108310.460441\n",
      "3    Bwd Packet Length Max  106125.975216\n"
     ]
    }
   ],
   "source": [
    "# Pegar os scores apenas das 4 features selecionadas\n",
    "selected_scores = selector.scores_[selector.get_support()]\n",
    "\n",
    "# Juntar nomes e scores em um DataFrame\n",
    "selected_features_df = pd.DataFrame({\n",
    "    'Feature': selected_features,\n",
    "    'Score': selected_scores\n",
    "}).sort_values(by='Score', ascending=False).reset_index(drop=True)\n",
    "\n",
    "print(\"Scores das 4 features selecionadas:\")\n",
    "print(selected_features_df)"
   ]
  },
  {
   "cell_type": "code",
   "execution_count": null,
   "metadata": {},
   "outputs": [
    {
     "name": "stdout",
     "output_type": "stream",
     "text": [
      "692703\n"
     ]
    }
   ],
   "source": [
    "# Verificar número de linhas da matriz de features selecionadas pelo SelectKBest\n",
    "num_rows_selected_features = X_selected.shape[0]\n",
    "print(num_rows_selected_features)"
   ]
  },
  {
   "cell_type": "code",
   "execution_count": null,
   "metadata": {},
   "outputs": [],
   "source": [
    "# Criar versão dos dados com a nova feature incluída\n",
    "X_with_new_feature = np.column_stack((X_selected, df_new_feature.values))"
   ]
  },
  {
   "cell_type": "code",
   "execution_count": null,
   "metadata": {},
   "outputs": [
    {
     "name": "stdout",
     "output_type": "stream",
     "text": [
      "\n",
      "=== Resultados SEM a nova feature ===\n",
      "Acurácia: 0.8744\n",
      "Relatório de Classificação:\n",
      "              precision    recall  f1-score   support\n",
      "\n",
      "           0       0.84      1.00      0.91    132009\n",
      "           1       1.00      0.73      0.84      3088\n",
      "           2       1.00      0.68      0.81     69322\n",
      "           3       0.99      0.07      0.13      1650\n",
      "           4       0.82      0.29      0.43      1739\n",
      "           5       1.00      1.00      1.00         3\n",
      "\n",
      "    accuracy                           0.87    207811\n",
      "   macro avg       0.94      0.63      0.69    207811\n",
      "weighted avg       0.89      0.87      0.86    207811\n",
      "\n",
      "\n",
      "=== Resultados COM a nova feature ===\n",
      "Acurácia: 0.9562\n",
      "Relatório de Classificação:\n",
      "              precision    recall  f1-score   support\n",
      "\n",
      "           0       0.97      0.98      0.97    132009\n",
      "           1       1.00      0.72      0.83      3088\n",
      "           2       0.93      0.96      0.95     69322\n",
      "           3       1.00      0.06      0.12      1650\n",
      "           4       0.83      0.29      0.43      1739\n",
      "           5       1.00      1.00      1.00         3\n",
      "\n",
      "    accuracy                           0.96    207811\n",
      "   macro avg       0.96      0.67      0.72    207811\n",
      "weighted avg       0.96      0.96      0.95    207811\n",
      "\n"
     ]
    }
   ],
   "source": [
    "train_and_evaluate(X_selected, y, \"SEM a nova feature\")\n",
    "train_and_evaluate(X_with_new_feature, y, \"COM a nova feature\")"
   ]
  },
  {
   "cell_type": "code",
   "execution_count": null,
   "metadata": {},
   "outputs": [
    {
     "name": "stderr",
     "output_type": "stream",
     "text": [
      "C:\\Users\\abreu\\AppData\\Roaming\\Python\\Python312\\site-packages\\xgboost\\core.py:158: UserWarning: [17:38:26] WARNING: C:\\buildkite-agent\\builds\\buildkite-windows-cpu-autoscaling-group-i-06abd128ca6c1688d-1\\xgboost\\xgboost-ci-windows\\src\\learner.cc:740: \n",
      "Parameters: { \"use_label_encoder\" } are not used.\n",
      "\n",
      "  warnings.warn(smsg, UserWarning)\n"
     ]
    },
    {
     "name": "stdout",
     "output_type": "stream",
     "text": [
      "\n",
      "=== Resultados SEM a nova feature (XGBoost) ===\n",
      "Acurácia: 0.8730\n",
      "Relatório de Classificação:\n",
      "              precision    recall  f1-score   support\n",
      "\n",
      "           0       0.84      1.00      0.91    132009\n",
      "           1       0.99      0.68      0.81      3088\n",
      "           2       1.00      0.68      0.81     69322\n",
      "           3       0.91      0.07      0.14      1650\n",
      "           4       0.68      0.29      0.41      1739\n",
      "           5       1.00      1.00      1.00         3\n",
      "\n",
      "    accuracy                           0.87    207811\n",
      "   macro avg       0.90      0.62      0.68    207811\n",
      "weighted avg       0.89      0.87      0.86    207811\n",
      "\n"
     ]
    },
    {
     "name": "stderr",
     "output_type": "stream",
     "text": [
      "C:\\Users\\abreu\\AppData\\Roaming\\Python\\Python312\\site-packages\\xgboost\\core.py:158: UserWarning: [17:38:34] WARNING: C:\\buildkite-agent\\builds\\buildkite-windows-cpu-autoscaling-group-i-06abd128ca6c1688d-1\\xgboost\\xgboost-ci-windows\\src\\learner.cc:740: \n",
      "Parameters: { \"use_label_encoder\" } are not used.\n",
      "\n",
      "  warnings.warn(smsg, UserWarning)\n"
     ]
    },
    {
     "name": "stdout",
     "output_type": "stream",
     "text": [
      "\n",
      "=== Resultados COM a nova feature (XGBoost) ===\n",
      "Acurácia: 0.9548\n",
      "Relatório de Classificação:\n",
      "              precision    recall  f1-score   support\n",
      "\n",
      "           0       0.97      0.98      0.97    132009\n",
      "           1       0.99      0.72      0.83      3088\n",
      "           2       0.93      0.96      0.95     69322\n",
      "           3       0.89      0.08      0.15      1650\n",
      "           4       0.76      0.26      0.39      1739\n",
      "           5       1.00      1.00      1.00         3\n",
      "\n",
      "    accuracy                           0.95    207811\n",
      "   macro avg       0.92      0.67      0.71    207811\n",
      "weighted avg       0.95      0.95      0.95    207811\n",
      "\n"
     ]
    }
   ],
   "source": [
    "# Testar o modelo SEM a nova feature\n",
    "train_and_evaluate_xgboost(X_selected, y, \"SEM a nova feature\")\n",
    "\n",
    "# Testar o modelo COM a nova feature\n",
    "train_and_evaluate_xgboost(X_with_new_feature, y, \"COM a nova feature\")\n"
   ]
  }
 ],
 "metadata": {
  "kernelspec": {
   "display_name": "Python 3",
   "language": "python",
   "name": "python3"
  },
  "language_info": {
   "codemirror_mode": {
    "name": "ipython",
    "version": 3
   },
   "file_extension": ".py",
   "mimetype": "text/x-python",
   "name": "python",
   "nbconvert_exporter": "python",
   "pygments_lexer": "ipython3",
   "version": "3.12.4"
  }
 },
 "nbformat": 4,
 "nbformat_minor": 2
}
